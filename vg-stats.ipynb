{
 "cells": [
  {
   "cell_type": "markdown",
   "metadata": {},
   "source": [
    "## Data Name  : vgsales \n",
    "## My name :shahed Alkhatib\n",
    "## Date :2021-10-25"
   ]
  },
  {
   "cell_type": "code",
   "execution_count": null,
   "metadata": {},
   "outputs": [],
   "source": [
    "import pandas as pd\n",
    "new_file = pd.read_csv(\"vgsales.csv\")\n",
    "new_file"
   ]
  },
  {
   "cell_type": "markdown",
   "metadata": {},
   "source": [
    "## Which company is the most common video game publisher?"
   ]
  },
  {
   "cell_type": "code",
   "execution_count": null,
   "metadata": {},
   "outputs": [],
   "source": [
    "# value_counts() function returns object containing counts of unique values. \n",
    "# The resulting object will be in descending order so that the first element is the most frequently-occurring element.\n",
    "# -----------------------------------------------------------------------------------------------------------------\n",
    "# idmax : function returns index of first occurrence of maximum over requested axis.\n",
    "# While finding the index of the maximum value across any index, all NA/null values are excluded.\n",
    "\n",
    " new_file[\"Publisher\"].value_counts().idxmax()"
   ]
  },
  {
   "cell_type": "markdown",
   "metadata": {},
   "source": [
    "## What’s the most common platform?"
   ]
  },
  {
   "cell_type": "code",
   "execution_count": null,
   "metadata": {},
   "outputs": [],
   "source": [
    "# value_counts() function returns object containing counts of unique values. \n",
    "# The resulting object will be in descending order so that the first element is the most frequently-occurring element.\n",
    "# -----------------------------------------------------------------------------------------------------------------\n",
    "# idmax : function returns index of first occurrence of maximum over requested axis.\n",
    "# While finding the index of the maximum value across any index, all NA/null values are excluded.\n",
    "new_file[\"Platform\"].value_counts().idxmax()"
   ]
  },
  {
   "cell_type": "markdown",
   "metadata": {},
   "source": [
    "## What about the most common genre?"
   ]
  },
  {
   "cell_type": "code",
   "execution_count": null,
   "metadata": {},
   "outputs": [],
   "source": [
    "# value_counts() function returns object containing counts of unique values. \n",
    "# The resulting object will be in descending order so that the first element is the most frequently-occurring element.\n",
    "# -----------------------------------------------------------------------------------------------------------------\n",
    "# idmax : function returns index of first occurrence of maximum over requested axis.\n",
    "# While finding the index of the maximum value across any index, all NA/null values are excluded.\n",
    "new_file[\"Genre\"].value_counts().idxmax()"
   ]
  },
  {
   "cell_type": "markdown",
   "metadata": {},
   "source": [
    "## What are the top 20 highest grossing games?"
   ]
  },
  {
   "cell_type": "code",
   "execution_count": null,
   "metadata": {},
   "outputs": [],
   "source": [
    "new_file.sort_values('Rank').head(20)[['Name', 'Global_Sales']]\n",
    "\"\"\" sorts a data frame in Ascending or Descending order of passed Column \"\"\""
   ]
  },
  {
   "cell_type": "markdown",
   "metadata": {},
   "source": [
    "## For North American video game sales, what’s the median?\n",
    "### Provide a secondary output showing ten games surrounding the median sales output\n",
    "### assume that games with same median value are sorted in descending order"
   ]
  },
  {
   "cell_type": "code",
   "execution_count": null,
   "metadata": {},
   "outputs": [],
   "source": [
    "sales=new_file['NA_Sales'].median()\n",
    "sales"
   ]
  },
  {
   "cell_type": "code",
   "execution_count": null,
   "metadata": {},
   "outputs": [],
   "source": [
    "comp = new_file[new_file['NA_Sales'] == sales]\n",
    "print(comp)\n",
    "mid = len(comp)// 2\n",
    "comp[mid-5:mid+5]"
   ]
  },
  {
   "cell_type": "markdown",
   "metadata": {},
   "source": [
    "## For the top-selling game of all time, how many standard deviations above/below the mean are its sales for North America?\n"
   ]
  },
  {
   "cell_type": "code",
   "execution_count": null,
   "metadata": {},
   "outputs": [],
   "source": [
    "game = new_file.head(1)\n",
    "mean = new_file[\"NA_Sales\"].mean()\n",
    "standard = new_file['NA_Sales'].std()\n",
    "top= (game[\"NA_Sales\"]-mean)/standard\n",
    "top"
   ]
  },
  {
   "cell_type": "markdown",
   "metadata": {},
   "source": [
    "## The Nintendo Wii seems to have outdone itself with games.\n",
    "## How does its average number of sales compare with all of the other platforms?\n"
   ]
  },
  {
   "cell_type": "code",
   "execution_count": null,
   "metadata": {},
   "outputs": [],
   "source": [
    "platform1 = new_file[(new_file[\"Platform\"]=='Wii')]\n",
    "platform2 = new_file[(new_file[\"Platform\"]!='Wii')]\n",
    "average = (platform2[\"Global_Sales\"].mean(),platform1[\"Global_Sales\"].mean())\n",
    "average"
   ]
  },
  {
   "cell_type": "markdown",
   "metadata": {},
   "source": [
    "## Come up with 3 more questions that can be answered with this data set."
   ]
  },
  {
   "cell_type": "markdown",
   "metadata": {},
   "source": [
    "##  Return row 0 and 1:"
   ]
  },
  {
   "cell_type": "code",
   "execution_count": null,
   "metadata": {},
   "outputs": [],
   "source": [
    "new_file.loc[[0, 1]]"
   ]
  },
  {
   "cell_type": "markdown",
   "metadata": {},
   "source": [
    "## Retuen  the last 5 rows of the DataFrame"
   ]
  },
  {
   "cell_type": "code",
   "execution_count": null,
   "metadata": {},
   "outputs": [],
   "source": [
    "new_file.tail()"
   ]
  },
  {
   "cell_type": "markdown",
   "metadata": {},
   "source": [
    "## Get information about the data:"
   ]
  },
  {
   "cell_type": "code",
   "execution_count": null,
   "metadata": {},
   "outputs": [],
   "source": [
    "new_file.info()"
   ]
  },
  {
   "cell_type": "code",
   "execution_count": null,
   "metadata": {},
   "outputs": [],
   "source": []
  },
  {
   "cell_type": "code",
   "execution_count": null,
   "metadata": {},
   "outputs": [],
   "source": []
  },
  {
   "cell_type": "code",
   "execution_count": null,
   "metadata": {},
   "outputs": [],
   "source": []
  },
  {
   "cell_type": "code",
   "execution_count": null,
   "metadata": {},
   "outputs": [],
   "source": []
  },
  {
   "cell_type": "code",
   "execution_count": null,
   "metadata": {},
   "outputs": [],
   "source": []
  }
 ],
 "metadata": {
  "interpreter": {
   "hash": "19155293efbb56ea60d98faa130ce53ceadc10d0185f5b8d0a0aa8c5a9e7c1fc"
  },
  "kernelspec": {
   "display_name": "Python 3.9.5 64-bit",
   "name": "python3"
  },
  "language_info": {
   "codemirror_mode": {
    "name": "ipython",
    "version": 3
   },
   "file_extension": ".py",
   "mimetype": "text/x-python",
   "name": "python",
   "nbconvert_exporter": "python",
   "pygments_lexer": "ipython3",
   "version": "3.9.5"
  }
 },
 "nbformat": 4,
 "nbformat_minor": 4
}
